{
 "cells": [
  {
   "cell_type": "markdown",
   "source": [
    "Init Params"
   ],
   "metadata": {
    "collapsed": false
   }
  },
  {
   "cell_type": "code",
   "execution_count": null,
   "outputs": [],
   "source": [
    "# Which dataset to use (see the cell above)\n",
    "    #dataset_path = qanat_path\n",
    "\n",
    "# Specifcy pre-trained model use\n",
    "pre_tr_mdl = 'densenet121'\n",
    "\n",
    "# Choose classes:\n",
    "class_names = ['no_qanat', 'qanat']\n",
    "\n",
    "# How much of dataset to use for (Training, Validation, and Testing)\n",
    "ratio = (.8, .1, .1)\n",
    "\n",
    "# Augmentation\n",
    "featurewise_center=False\n",
    "rotation_range=360\n",
    "channel_shift_range=0.15\n",
    "width_shift_range=None\n",
    "height_shift_range=None\n",
    "horizontal_flip=True\n",
    "vertical_flip=True\n",
    "brightness_range=None  # [0.2,1.0]\n",
    "\n",
    "\n",
    "# Batch_size\n",
    "batch_size = 10\n",
    "\n",
    "# Frozen layers\n",
    "frozen_layers = 0\n",
    "\n",
    "# Learning rate\n",
    "lr = 0.0001\n",
    "\n",
    "# Number of epochs\n",
    "epochs = 10\n",
    "\n",
    "\n",
    "# True if you want to save the model and evaluation of the model as a ZipFile in a chosen destination:\n",
    "save = True\n",
    "# dest_path -> The path to save the model ex : models/qanats\n",
    "# You have to chose the desired dest_path:\n",
    "# By default it gets saved under models/qanat\n",
    "\n",
    "    #default_path = os.path.join(root_path, 'models', 'qanat')\n",
    "    #dest_path = default_path\n"
   ],
   "metadata": {
    "collapsed": false,
    "pycharm": {
     "name": "#%%\n"
    }
   }
  }
 ],
 "metadata": {
  "kernelspec": {
   "display_name": "Python 3",
   "language": "python",
   "name": "python3"
  },
  "language_info": {
   "codemirror_mode": {
    "name": "ipython",
    "version": 2
   },
   "file_extension": ".py",
   "mimetype": "text/x-python",
   "name": "python",
   "nbconvert_exporter": "python",
   "pygments_lexer": "ipython2",
   "version": "2.7.6"
  }
 },
 "nbformat": 4,
 "nbformat_minor": 0
}